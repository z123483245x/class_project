{
  "nbformat": 4,
  "nbformat_minor": 0,
  "metadata": {
    "colab": {
      "provenance": [],
      "authorship_tag": "ABX9TyOO/Vl783OkxcjT3qls7i1A",
      "include_colab_link": true
    },
    "kernelspec": {
      "name": "python3",
      "display_name": "Python 3"
    },
    "language_info": {
      "name": "python"
    },
    "accelerator": "GPU",
    "gpuClass": "standard"
  },
  "cells": [
    {
      "cell_type": "markdown",
      "metadata": {
        "id": "view-in-github",
        "colab_type": "text"
      },
      "source": [
        "<a href=\"https://colab.research.google.com/github/tangQAQ/LSTM_training/blob/main/Patten_LSTMv3.ipynb\" target=\"_parent\"><img src=\"https://colab.research.google.com/assets/colab-badge.svg\" alt=\"Open In Colab\"/></a>"
      ]
    },
    {
      "cell_type": "code",
      "execution_count": 1,
      "metadata": {
        "colab": {
          "base_uri": "https://localhost:8080/"
        },
        "id": "kCo7RVKygRWW",
        "outputId": "0bb3b500-0386-43cf-85c3-d619e4040488"
      },
      "outputs": [
        {
          "output_type": "stream",
          "name": "stdout",
          "text": [
            "Mounted at /content/gdrive\n",
            "<class 'pandas.core.frame.DataFrame'>\n",
            "RangeIndex: 23683 entries, 0 to 23682\n",
            "Data columns (total 6 columns):\n",
            " #   Column     Non-Null Count  Dtype  \n",
            "---  ------     --------------  -----  \n",
            " 0   Open       23683 non-null  float32\n",
            " 1   High       23683 non-null  float32\n",
            " 2   Low        23683 non-null  float32\n",
            " 3   Close      23683 non-null  float32\n",
            " 4   Adj Close  23683 non-null  float32\n",
            " 5   Volume     23683 non-null  float32\n",
            "dtypes: float32(6)\n",
            "memory usage: 555.2 KB\n"
          ]
        }
      ],
      "source": [
        "import pandas as pd\n",
        "import numpy as np\n",
        "from sklearn.preprocessing import MinMaxScaler, StandardScaler\n",
        "from keras.models import Sequential\n",
        "from keras.layers import Dense, LSTM, Dropout, TimeDistributed\n",
        "from google.colab import drive\n",
        "import matplotlib.pyplot as plt\n",
        "from keras.optimizers import Adam\n",
        "import warnings \n",
        "\n",
        "warnings.filterwarnings('ignore')\n",
        "\n",
        "drive.mount('/content/gdrive')\n",
        "train_data = pd.read_csv(\"/content/gdrive/MyDrive/GSPC_train.csv\", )\n",
        "train_data = train_data.drop(['Date'], axis= 1)\n",
        "train_data = train_data.apply(lambda x: pd.to_numeric(x.str.replace(',',''), errors='coerce')).fillna(-1).astype('float32')\n",
        "train_data.info()"
      ]
    },
    {
      "cell_type": "code",
      "source": [
        "size = int(len(train_data) * 0.8)\n",
        "train, val = train_data[:size], train_data[size:]\n",
        "train.shape, val.shape"
      ],
      "metadata": {
        "colab": {
          "base_uri": "https://localhost:8080/"
        },
        "id": "T_26VZ1lLEi9",
        "outputId": "1041bd79-aeb1-48d4-c37f-74a2f106990c"
      },
      "execution_count": 2,
      "outputs": [
        {
          "output_type": "execute_result",
          "data": {
            "text/plain": [
              "((18946, 6), (4737, 6))"
            ]
          },
          "metadata": {},
          "execution_count": 2
        }
      ]
    },
    {
      "cell_type": "code",
      "source": [
        "def create_sequences(data, sequences):\n",
        "    X = []\n",
        "    y = []\n",
        "    for i in range(sequences, len(data)):\n",
        "        X.append(data[i-sequences:i, :])\n",
        "        y.append(data[i, 0])\n",
        "    X = np.array(X)\n",
        "    y = np.array(y)\n",
        "    return X, y"
      ],
      "metadata": {
        "id": "hVMiJjcWgvY1"
      },
      "execution_count": 3,
      "outputs": []
    },
    {
      "cell_type": "code",
      "source": [
        "sc = MinMaxScaler(feature_range=(0,1))\n",
        "sequences = 15\n",
        "\n",
        "train_data_scaled = sc.fit_transform(train.iloc[:, 4:5])\n",
        "val_data_scaled = sc.fit_transform(val.iloc[:, 4:5])\n",
        "X_train, y_train = create_sequences(train_data_scaled, sequences)\n",
        "X_val, y_val = create_sequences(val_data_scaled, sequences)\n",
        "X_train.shape, y_train.shape, X_val.shape, y_val.shape"
      ],
      "metadata": {
        "colab": {
          "base_uri": "https://localhost:8080/"
        },
        "id": "KMgrUfAAhLsX",
        "outputId": "55bccdae-462d-4d83-be9d-12b12e618e63"
      },
      "execution_count": 4,
      "outputs": [
        {
          "output_type": "execute_result",
          "data": {
            "text/plain": [
              "((18931, 15, 1), (18931,), (4722, 15, 1), (4722,))"
            ]
          },
          "metadata": {},
          "execution_count": 4
        }
      ]
    },
    {
      "cell_type": "code",
      "source": [
        "print(X_train[1] ,y_train[1])"
      ],
      "metadata": {
        "colab": {
          "base_uri": "https://localhost:8080/"
        },
        "id": "64QRrk9R7RGy",
        "outputId": "434c6a5d-72a7-4cd2-ac6d-c2d324f73d2b"
      },
      "execution_count": 5,
      "outputs": [
        {
          "output_type": "stream",
          "name": "stdout",
          "text": [
            "[[0.00874555]\n",
            " [0.00863393]\n",
            " [0.00870616]\n",
            " [0.00860111]\n",
            " [0.00851575]\n",
            " [0.00850262]\n",
            " [0.00858141]\n",
            " [0.00865363]\n",
            " [0.00846323]\n",
            " [0.00846979]\n",
            " [0.00844353]\n",
            " [0.00852232]\n",
            " [0.00858798]\n",
            " [0.00869303]\n",
            " [0.00873899]] 0.008614238\n"
          ]
        }
      ]
    },
    {
      "cell_type": "code",
      "source": [
        "model = Sequential()\n",
        "model.add(LSTM(units=20, return_sequences=False, input_shape=(X_train.shape[1], X_train.shape[2])))\n",
        "model.add(Dense(units=1))\n",
        "\n",
        "model.compile(optimizer='Adam', loss='mse')\n",
        "\n",
        "model.fit(X_train, y_train, validation_data=(X_val, y_val), epochs=3, batch_size=32)"
      ],
      "metadata": {
        "colab": {
          "base_uri": "https://localhost:8080/"
        },
        "id": "YkZbrumanRUA",
        "outputId": "b5d1ffd3-dccf-4220-d04d-69db9d53f48d"
      },
      "execution_count": 6,
      "outputs": [
        {
          "output_type": "stream",
          "name": "stdout",
          "text": [
            "Epoch 1/3\n",
            "592/592 [==============================] - 15s 11ms/step - loss: 0.0017 - val_loss: 1.7576e-04\n",
            "Epoch 2/3\n",
            "592/592 [==============================] - 5s 8ms/step - loss: 4.6827e-05 - val_loss: 1.0880e-04\n",
            "Epoch 3/3\n",
            "592/592 [==============================] - 3s 5ms/step - loss: 3.6269e-05 - val_loss: 1.0032e-04\n"
          ]
        },
        {
          "output_type": "execute_result",
          "data": {
            "text/plain": [
              "<keras.callbacks.History at 0x7fc8b6407fd0>"
            ]
          },
          "metadata": {},
          "execution_count": 6
        }
      ]
    },
    {
      "cell_type": "code",
      "source": [
        "model.evaluate(X_train, y_train, batch_size= 32)"
      ],
      "metadata": {
        "colab": {
          "base_uri": "https://localhost:8080/"
        },
        "id": "D7PNGwgQKoSt",
        "outputId": "cc4cd100-48c8-43e1-e77c-903371f77995"
      },
      "execution_count": 7,
      "outputs": [
        {
          "output_type": "stream",
          "name": "stdout",
          "text": [
            "592/592 [==============================] - 3s 4ms/step - loss: 3.1189e-05\n"
          ]
        },
        {
          "output_type": "execute_result",
          "data": {
            "text/plain": [
              "3.1189480068860576e-05"
            ]
          },
          "metadata": {},
          "execution_count": 7
        }
      ]
    },
    {
      "cell_type": "code",
      "source": [
        "test_df = pd.read_csv(\"/content/gdrive/MyDrive/GSPC_test.csv\")\n",
        "\n",
        "test_data = test_df.copy()\n",
        "test_data = test_data.drop(['Date'], axis= 1)\n",
        "test_data_clean = test_data.apply(lambda x: pd.to_numeric(x.str.replace(',',''), errors='coerce')).fillna(-1).astype('float32')\n",
        "\n",
        "preds = list()\n",
        "days = 15\n",
        "test_data = test_data_clean.iloc[:sequences+1, 4:5]\n",
        "\n",
        "for i in range(1, days+1):\n",
        "  test_data_scaled = sc.fit_transform(test_data)\n",
        "  X_test, y_test = create_sequences(test_data_scaled, sequences)\n",
        "  test_predictions = model.predict(X_test)\n",
        "  inverse = sc.inverse_transform(test_predictions)\n",
        "  preds.append(inverse[:, 0])\n",
        "  test_data.drop(0, inplace=True)\n",
        "  test_data = test_data.append(pd.Series(inverse[:,0], index=test_data.columns), ignore_index=True)\n"
      ],
      "metadata": {
        "colab": {
          "base_uri": "https://localhost:8080/"
        },
        "id": "BeP53pdCnWRb",
        "outputId": "6d886584-4314-4be1-9a1d-c541469ef597"
      },
      "execution_count": 8,
      "outputs": [
        {
          "output_type": "stream",
          "name": "stdout",
          "text": [
            "1/1 [==============================] - 1s 997ms/step\n",
            "1/1 [==============================] - 0s 27ms/step\n",
            "1/1 [==============================] - 0s 32ms/step\n",
            "1/1 [==============================] - 0s 30ms/step\n",
            "1/1 [==============================] - 0s 27ms/step\n",
            "1/1 [==============================] - 0s 28ms/step\n",
            "1/1 [==============================] - 0s 29ms/step\n",
            "1/1 [==============================] - 0s 31ms/step\n",
            "1/1 [==============================] - 0s 20ms/step\n",
            "1/1 [==============================] - 0s 30ms/step\n",
            "1/1 [==============================] - 0s 18ms/step\n",
            "1/1 [==============================] - 0s 17ms/step\n",
            "1/1 [==============================] - 0s 19ms/step\n",
            "1/1 [==============================] - 0s 21ms/step\n",
            "1/1 [==============================] - 0s 18ms/step\n"
          ]
        }
      ]
    },
    {
      "cell_type": "code",
      "source": [
        "preds"
      ],
      "metadata": {
        "colab": {
          "base_uri": "https://localhost:8080/"
        },
        "id": "WgJUcv7hYp-W",
        "outputId": "33cfe0bf-77a0-4d76-b358-56199e2f338d"
      },
      "execution_count": 9,
      "outputs": [
        {
          "output_type": "execute_result",
          "data": {
            "text/plain": [
              "[array([4247.861], dtype=float32),\n",
              " array([4230.6704], dtype=float32),\n",
              " array([4228.959], dtype=float32),\n",
              " array([4226.1357], dtype=float32),\n",
              " array([4222.8633], dtype=float32),\n",
              " array([4219.9946], dtype=float32),\n",
              " array([4218.4155], dtype=float32),\n",
              " array([4218.1865], dtype=float32),\n",
              " array([4217.3403], dtype=float32),\n",
              " array([4218.2847], dtype=float32),\n",
              " array([4218.7695], dtype=float32),\n",
              " array([4217.7354], dtype=float32),\n",
              " array([4219.0977], dtype=float32),\n",
              " array([4219.8594], dtype=float32),\n",
              " array([4220.3545], dtype=float32)]"
            ]
          },
          "metadata": {},
          "execution_count": 9
        }
      ]
    },
    {
      "cell_type": "code",
      "source": [
        "model.evaluate(X_test, y_test, batch_size= 32)"
      ],
      "metadata": {
        "colab": {
          "base_uri": "https://localhost:8080/"
        },
        "id": "8L5ZVeZPKzXX",
        "outputId": "6d28e96e-c335-4100-d781-cdbc52064236"
      },
      "execution_count": 10,
      "outputs": [
        {
          "output_type": "stream",
          "name": "stdout",
          "text": [
            "1/1 [==============================] - 0s 25ms/step - loss: 1.0431e-05\n"
          ]
        },
        {
          "output_type": "execute_result",
          "data": {
            "text/plain": [
              "1.0431395821797196e-05"
            ]
          },
          "metadata": {},
          "execution_count": 10
        }
      ]
    },
    {
      "cell_type": "code",
      "source": [
        "from numpy.ma import left_shift\n",
        "import matplotlib.ticker as ticker\n",
        "\n",
        "\n",
        "limit = sequences + days\n",
        "Actual_Close = test_data_clean['Close'].drop(sequences)\n",
        "\n",
        "result = preds\n",
        "\n",
        "plt.figure(figsize=(12, 8))\n",
        "plt.title('Actual vs. Predicted Closing Prices')\n",
        "plt.xlabel('Time line')\n",
        "plt.ylabel('Closing Price')\n",
        "plt.plot(result, label='Predicted Close', color='b', linestyle='--')\n",
        "plt.plot(Actual_Close, label='Actual Close', color='r')\n",
        "plt.xlim([0,days])\n",
        "#plt.ylim([max(Actual_Close), min(result)])\n",
        "ax= plt.gca()\n",
        "#ax.xaxis.set_major_locator(ticker.MultipleLocator(100))\n",
        "#ax.yaxis.set_major_locator(ticker.MultipleLocator(100))\n",
        "plt.legend()\n",
        "plt.show()"
      ],
      "metadata": {
        "id": "Pb_RbsQ5oVa4",
        "colab": {
          "base_uri": "https://localhost:8080/",
          "height": 718
        },
        "outputId": "5cd7da09-61bb-44df-9225-2bbef8ddb85e"
      },
      "execution_count": 11,
      "outputs": [
        {
          "output_type": "display_data",
          "data": {
            "text/plain": [
              "<Figure size 1200x800 with 1 Axes>"
            ],
            "image/png": "[encoded data removed]"
          },
          "metadata": {}
        }
      ]
    },
    {
      "cell_type": "code",
      "source": [],
      "metadata": {
        "id": "A7YC22ZJdrFE"
      },
      "execution_count": 11,
      "outputs": []
    }
  ]
}