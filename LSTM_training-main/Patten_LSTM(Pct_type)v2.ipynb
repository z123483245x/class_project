{
  "nbformat": 4,
  "nbformat_minor": 0,
  "metadata": {
    "colab": {
      "provenance": [],
      "authorship_tag": "ABX9TyPTT/QQL7R+UXx9qD7wes8z",
      "include_colab_link": true
    },
    "kernelspec": {
      "name": "python3",
      "display_name": "Python 3"
    },
    "language_info": {
      "name": "python"
    },
    "accelerator": "GPU",
    "gpuClass": "standard"
  },
  "cells": [
    {
      "cell_type": "markdown",
      "metadata": {
        "id": "view-in-github",
        "colab_type": "text"
      },
      "source": [
        "<a href=\"https://colab.research.google.com/github/tangQAQ/LSTM_training/blob/main/Patten_LSTM(Pct_type)v2.ipynb\" target=\"_parent\"><img src=\"https://colab.research.google.com/assets/colab-badge.svg\" alt=\"Open In Colab\"/></a>"
      ]
    },
    {
      "cell_type": "code",
      "execution_count": null,
      "metadata": {
        "colab": {
          "base_uri": "https://localhost:8080/"
        },
        "id": "kCo7RVKygRWW",
        "outputId": "1c31d913-8b07-4f03-975b-457f35381775"
      },
      "outputs": [
        {
          "output_type": "stream",
          "name": "stdout",
          "text": [
            "Mounted at /content/gdrive\n",
            "<class 'pandas.core.frame.DataFrame'>\n",
            "RangeIndex: 23683 entries, 0 to 23682\n",
            "Data columns (total 6 columns):\n",
            " #   Column     Non-Null Count  Dtype  \n",
            "---  ------     --------------  -----  \n",
            " 0   Open       23683 non-null  float32\n",
            " 1   High       23683 non-null  float32\n",
            " 2   Low        23683 non-null  float32\n",
            " 3   Close      23683 non-null  float32\n",
            " 4   Adj Close  23683 non-null  float32\n",
            " 5   Volume     23683 non-null  float32\n",
            "dtypes: float32(6)\n",
            "memory usage: 555.2 KB\n"
          ]
        }
      ],
      "source": [
        "import pandas as pd\n",
        "import numpy as np\n",
        "from sklearn.preprocessing import MinMaxScaler, StandardScaler\n",
        "from keras.models import Sequential\n",
        "from keras.layers import Dense, LSTM, Dropout, TimeDistributed\n",
        "from google.colab import drive\n",
        "import matplotlib.pyplot as plt\n",
        "from keras.optimizers import Adam\n",
        "import warnings \n",
        "\n",
        "warnings.filterwarnings('ignore')\n",
        "\n",
        "drive.mount('/content/gdrive')\n",
        "train_data = pd.read_csv(\"/content/gdrive/MyDrive/GSPC_train.csv\", )\n",
        "train_data = train_data.drop(['Date'], axis= 1)\n",
        "train_data = train_data.apply(lambda x: pd.to_numeric(x.str.replace(',',''), errors='coerce')).fillna(-1).astype('float32')\n",
        "train_data.info()"
      ]
    },
    {
      "cell_type": "code",
      "source": [
        "train_data['Pct_change'] = train_data['Close'].pct_change()\n",
        "train_data.drop(train_data.index[0], inplace=True)\n",
        "train_data.head()"
      ],
      "metadata": {
        "colab": {
          "base_uri": "https://localhost:8080/",
          "height": 206
        },
        "id": "m3G8aRn3qYPM",
        "outputId": "d5bd0ed2-a5e1-4401-f83b-dd09627da871"
      },
      "execution_count": null,
      "outputs": [
        {
          "output_type": "execute_result",
          "data": {
            "text/plain": [
              "        Open       High        Low      Close  Adj Close  Volume  Pct_change\n",
              "1  17.719999  17.719999  17.719999  17.719999  17.719999    -1.0   -0.002252\n",
              "2  17.549999  17.549999  17.549999  17.549999  17.549999    -1.0   -0.009594\n",
              "3  17.660000  17.660000  17.660000  17.660000  17.660000    -1.0    0.006268\n",
              "4  17.500000  17.500000  17.500000  17.500000  17.500000    -1.0   -0.009060\n",
              "5  17.370001  17.370001  17.370001  17.370001  17.370001    -1.0   -0.007429"
            ],
            "text/html": [
              "\n",
              "  <div id=\"df-71322166-1da9-49aa-a5bd-6de16cd2a91b\">\n",
              "    <div class=\"colab-df-container\">\n",
              "      <div>\n",
              "<style scoped>\n",
              "    .dataframe tbody tr th:only-of-type {\n",
              "        vertical-align: middle;\n",
              "    }\n",
              "\n",
              "    .dataframe tbody tr th {\n",
              "        vertical-align: top;\n",
              "    }\n",
              "\n",
              "    .dataframe thead th {\n",
              "        text-align: right;\n",
              "    }\n",
              "</style>\n",
              "<table border=\"1\" class=\"dataframe\">\n",
              "  <thead>\n",
              "    <tr style=\"text-align: right;\">\n",
              "      <th></th>\n",
              "      <th>Open</th>\n",
              "      <th>High</th>\n",
              "      <th>Low</th>\n",
              "      <th>Close</th>\n",
              "      <th>Adj Close</th>\n",
              "      <th>Volume</th>\n",
              "      <th>Pct_change</th>\n",
              "    </tr>\n",
              "  </thead>\n",
              "  <tbody>\n",
              "    <tr>\n",
              "      <th>1</th>\n",
              "      <td>17.719999</td>\n",
              "      <td>17.719999</td>\n",
              "      <td>17.719999</td>\n",
              "      <td>17.719999</td>\n",
              "      <td>17.719999</td>\n",
              "      <td>-1.0</td>\n",
              "      <td>-0.002252</td>\n",
              "    </tr>\n",
              "    <tr>\n",
              "      <th>2</th>\n",
              "      <td>17.549999</td>\n",
              "      <td>17.549999</td>\n",
              "      <td>17.549999</td>\n",
              "      <td>17.549999</td>\n",
              "      <td>17.549999</td>\n",
              "      <td>-1.0</td>\n",
              "      <td>-0.009594</td>\n",
              "    </tr>\n",
              "    <tr>\n",
              "      <th>3</th>\n",
              "      <td>17.660000</td>\n",
              "      <td>17.660000</td>\n",
              "      <td>17.660000</td>\n",
              "      <td>17.660000</td>\n",
              "      <td>17.660000</td>\n",
              "      <td>-1.0</td>\n",
              "      <td>0.006268</td>\n",
              "    </tr>\n",
              "    <tr>\n",
              "      <th>4</th>\n",
              "      <td>17.500000</td>\n",
              "      <td>17.500000</td>\n",
              "      <td>17.500000</td>\n",
              "      <td>17.500000</td>\n",
              "      <td>17.500000</td>\n",
              "      <td>-1.0</td>\n",
              "      <td>-0.009060</td>\n",
              "    </tr>\n",
              "    <tr>\n",
              "      <th>5</th>\n",
              "      <td>17.370001</td>\n",
              "      <td>17.370001</td>\n",
              "      <td>17.370001</td>\n",
              "      <td>17.370001</td>\n",
              "      <td>17.370001</td>\n",
              "      <td>-1.0</td>\n",
              "      <td>-0.007429</td>\n",
              "    </tr>\n",
              "  </tbody>\n",
              "</table>\n",
              "</div>\n",
              "      <button class=\"colab-df-convert\" onclick=\"convertToInteractive('df-71322166-1da9-49aa-a5bd-6de16cd2a91b')\"\n",
              "              title=\"Convert this dataframe to an interactive table.\"\n",
              "              style=\"display:none;\">\n",
              "        \n",
              "  <svg xmlns=\"http://www.w3.org/2000/svg\" height=\"24px\"viewBox=\"0 0 24 24\"\n",
              "       width=\"24px\">\n",
              "    <path d=\"M0 0h24v24H0V0z\" fill=\"none\"/>\n",
              "    <path d=\"M18.56 5.44l.94 2.06.94-2.06 2.06-.94-2.06-.94-.94-2.06-.94 2.06-2.06.94zm-11 1L8.5 8.5l.94-2.06 2.06-.94-2.06-.94L8.5 2.5l-.94 2.06-2.06.94zm10 10l.94 2.06.94-2.06 2.06-.94-2.06-.94-.94-2.06-.94 2.06-2.06.94z\"/><path d=\"M17.41 7.96l-1.37-1.37c-.4-.4-.92-.59-1.43-.59-.52 0-1.04.2-1.43.59L10.3 9.45l-7.72 7.72c-.78.78-.78 2.05 0 2.83L4 21.41c.39.39.9.59 1.41.59.51 0 1.02-.2 1.41-.59l7.78-7.78 2.81-2.81c.8-.78.8-2.07 0-2.86zM5.41 20L4 18.59l7.72-7.72 1.47 1.35L5.41 20z\"/>\n",
              "  </svg>\n",
              "      </button>\n",
              "      \n",
              "  <style>\n",
              "    .colab-df-container {\n",
              "      display:flex;\n",
              "      flex-wrap:wrap;\n",
              "      gap: 12px;\n",
              "    }\n",
              "\n",
              "    .colab-df-convert {\n",
              "      background-color: #E8F0FE;\n",
              "      border: none;\n",
              "      border-radius: 50%;\n",
              "      cursor: pointer;\n",
              "      display: none;\n",
              "      fill: #1967D2;\n",
              "      height: 32px;\n",
              "      padding: 0 0 0 0;\n",
              "      width: 32px;\n",
              "    }\n",
              "\n",
              "    .colab-df-convert:hover {\n",
              "      background-color: #E2EBFA;\n",
              "      box-shadow: 0px 1px 2px rgba(60, 64, 67, 0.3), 0px 1px 3px 1px rgba(60, 64, 67, 0.15);\n",
              "      fill: #174EA6;\n",
              "    }\n",
              "\n",
              "    [theme=dark] .colab-df-convert {\n",
              "      background-color: #3B4455;\n",
              "      fill: #D2E3FC;\n",
              "    }\n",
              "\n",
              "    [theme=dark] .colab-df-convert:hover {\n",
              "      background-color: #434B5C;\n",
              "      box-shadow: 0px 1px 3px 1px rgba(0, 0, 0, 0.15);\n",
              "      filter: drop-shadow(0px 1px 2px rgba(0, 0, 0, 0.3));\n",
              "      fill: #FFFFFF;\n",
              "    }\n",
              "  </style>\n",
              "\n",
              "      <script>\n",
              "        const buttonEl =\n",
              "          document.querySelector('#df-71322166-1da9-49aa-a5bd-6de16cd2a91b button.colab-df-convert');\n",
              "        buttonEl.style.display =\n",
              "          google.colab.kernel.accessAllowed ? 'block' : 'none';\n",
              "\n",
              "        async function convertToInteractive(key) {\n",
              "          const element = document.querySelector('#df-71322166-1da9-49aa-a5bd-6de16cd2a91b');\n",
              "          const dataTable =\n",
              "            await google.colab.kernel.invokeFunction('convertToInteractive',\n",
              "                                                     [key], {});\n",
              "          if (!dataTable) return;\n",
              "\n",
              "          const docLinkHtml = 'Like what you see? Visit the ' +\n",
              "            '<a target=\"_blank\" href=https://colab.research.google.com/notebooks/data_table.ipynb>data table notebook</a>'\n",
              "            + ' to learn more about interactive tables.';\n",
              "          element.innerHTML = '';\n",
              "          dataTable['output_type'] = 'display_data';\n",
              "          await google.colab.output.renderOutput(dataTable, element);\n",
              "          const docLink = document.createElement('div');\n",
              "          docLink.innerHTML = docLinkHtml;\n",
              "          element.appendChild(docLink);\n",
              "        }\n",
              "      </script>\n",
              "    </div>\n",
              "  </div>\n",
              "  "
            ]
          },
          "metadata": {},
          "execution_count": 2
        }
      ]
    },
    {
      "cell_type": "code",
      "source": [
        "def data_split(data, slice_size):\n",
        "  size = int(len(data) * slice_size)\n",
        "  train = data[:size]\n",
        "  val = data[size:]\n",
        "  return train, val"
      ],
      "metadata": {
        "id": "T_26VZ1lLEi9"
      },
      "execution_count": null,
      "outputs": []
    },
    {
      "cell_type": "code",
      "source": [
        "def create_sequences(data, sequences):\n",
        "    X = []\n",
        "    y = []\n",
        "    for i in range(sequences, len(data)):\n",
        "        X.append(data[i-sequences:i, :])\n",
        "        y.append(data[i, 0])\n",
        "    X = np.array(X)\n",
        "    y = np.array(y)\n",
        "    return X, y"
      ],
      "metadata": {
        "id": "hVMiJjcWgvY1"
      },
      "execution_count": null,
      "outputs": []
    },
    {
      "cell_type": "code",
      "source": [
        "train, val = data_split(train_data, 0.8)\n",
        "train.shape, val.shape"
      ],
      "metadata": {
        "colab": {
          "base_uri": "https://localhost:8080/"
        },
        "id": "Ca2sEvgvrar6",
        "outputId": "9fbc8fb9-e5c0-4bbf-da52-1228ec016041"
      },
      "execution_count": null,
      "outputs": [
        {
          "output_type": "execute_result",
          "data": {
            "text/plain": [
              "((18945, 7), (4737, 7))"
            ]
          },
          "metadata": {},
          "execution_count": 5
        }
      ]
    },
    {
      "cell_type": "code",
      "source": [
        "sc = MinMaxScaler(feature_range=(0,1))\n",
        "\n",
        "sequences = 15\n",
        "\n",
        "train_data_scaled = sc.fit_transform(train.iloc[:, -1].values.reshape(-1, 1))\n",
        "val_data_scaled = sc.fit_transform(val.iloc[:, -1].values.reshape(-1, 1))\n",
        "X_train, y_train = create_sequences(train_data_scaled, sequences)\n",
        "X_val, y_val = create_sequences(val_data_scaled, sequences)\n",
        "X_train.shape, y_train.shape, X_val.shape, y_val.shape"
      ],
      "metadata": {
        "colab": {
          "base_uri": "https://localhost:8080/"
        },
        "id": "KMgrUfAAhLsX",
        "outputId": "ead4d622-7f12-4314-eb38-52e2e6f825df"
      },
      "execution_count": null,
      "outputs": [
        {
          "output_type": "execute_result",
          "data": {
            "text/plain": [
              "((18930, 15, 1), (18930,), (4722, 15, 1), (4722,))"
            ]
          },
          "metadata": {},
          "execution_count": 6
        }
      ]
    },
    {
      "cell_type": "code",
      "source": [
        "print(X_train[1],y_train[1])"
      ],
      "metadata": {
        "colab": {
          "base_uri": "https://localhost:8080/"
        },
        "id": "64QRrk9R7RGy",
        "outputId": "b5f2910e-e013-41cb-e71f-69b55dc30686"
      },
      "execution_count": null,
      "outputs": [
        {
          "output_type": "stream",
          "name": "stdout",
          "text": [
            "[[0.5261434 ]\n",
            " [0.5689237 ]\n",
            " [0.5275827 ]\n",
            " [0.531983  ]\n",
            " [0.5489131 ]\n",
            " [0.5706731 ]\n",
            " [0.5690012 ]\n",
            " [0.50752705]\n",
            " [0.55357844]\n",
            " [0.5457828 ]\n",
            " [0.5707702 ]\n",
            " [0.5675373 ]\n",
            " [0.57670647]\n",
            " [0.56272155]\n",
            " [0.52308315]] 0.5689526\n"
          ]
        }
      ]
    },
    {
      "cell_type": "code",
      "source": [
        "model = Sequential()\n",
        "model.add(LSTM(units=30, return_sequences=False, input_shape=(X_train.shape[1], X_train.shape[2])))\n",
        "model.add(Dense(units=1))\n",
        "\n",
        "model.compile(optimizer='Adam', loss='mse')\n",
        "\n",
        "model.fit(X_train, y_train, validation_data=(X_val, y_val),epochs=10, batch_size=32)"
      ],
      "metadata": {
        "colab": {
          "base_uri": "https://localhost:8080/"
        },
        "id": "YkZbrumanRUA",
        "outputId": "5714cb56-953e-4119-8940-e229b14b43df"
      },
      "execution_count": null,
      "outputs": [
        {
          "output_type": "stream",
          "name": "stdout",
          "text": [
            "Epoch 1/10\n",
            "592/592 [==============================] - 10s 6ms/step - loss: 0.0040 - val_loss: 0.0030\n",
            "Epoch 2/10\n",
            "592/592 [==============================] - 4s 7ms/step - loss: 0.0011 - val_loss: 0.0028\n",
            "Epoch 3/10\n",
            "592/592 [==============================] - 3s 5ms/step - loss: 0.0011 - val_loss: 0.0031\n",
            "Epoch 4/10\n",
            "592/592 [==============================] - 3s 6ms/step - loss: 0.0011 - val_loss: 0.0031\n",
            "Epoch 5/10\n",
            "592/592 [==============================] - 3s 5ms/step - loss: 0.0011 - val_loss: 0.0032\n",
            "Epoch 6/10\n",
            "592/592 [==============================] - 4s 7ms/step - loss: 0.0011 - val_loss: 0.0030\n",
            "Epoch 7/10\n",
            "592/592 [==============================] - 3s 5ms/step - loss: 0.0011 - val_loss: 0.0035\n",
            "Epoch 8/10\n",
            "592/592 [==============================] - 3s 5ms/step - loss: 0.0011 - val_loss: 0.0030\n",
            "Epoch 9/10\n",
            "592/592 [==============================] - 3s 5ms/step - loss: 0.0011 - val_loss: 0.0036\n",
            "Epoch 10/10\n",
            "592/592 [==============================] - 4s 6ms/step - loss: 0.0011 - val_loss: 0.0033\n"
          ]
        },
        {
          "output_type": "execute_result",
          "data": {
            "text/plain": [
              "<keras.callbacks.History at 0x7f8411960f40>"
            ]
          },
          "metadata": {},
          "execution_count": 8
        }
      ]
    },
    {
      "cell_type": "code",
      "source": [
        "model.evaluate(X_train, y_train, batch_size= 32)"
      ],
      "metadata": {
        "colab": {
          "base_uri": "https://localhost:8080/"
        },
        "id": "D7PNGwgQKoSt",
        "outputId": "35932d1e-c98e-45c5-8aef-d53a8a130611"
      },
      "execution_count": null,
      "outputs": [
        {
          "output_type": "stream",
          "name": "stdout",
          "text": [
            "592/592 [==============================] - 2s 3ms/step - loss: 0.0011\n"
          ]
        },
        {
          "output_type": "execute_result",
          "data": {
            "text/plain": [
              "0.001057365327142179"
            ]
          },
          "metadata": {},
          "execution_count": 9
        }
      ]
    },
    {
      "cell_type": "code",
      "source": [
        "test_df = pd.read_csv(\"/content/gdrive/MyDrive/GSPC_test.csv\")\n",
        "days = 15\n",
        "\n",
        "test_data = test_df.copy()\n",
        "test_data = test_data.drop(['Date'], axis= 1)\n",
        "test_data_clean = test_data.apply(lambda x: pd.to_numeric(x.str.replace(',',''), errors='coerce')).fillna(-1).astype('float32')\n",
        "test_data_clean = test_data_clean.iloc[:sequences+2, :]\n",
        "test_data_clean['Pct_change'] = test_data_clean['Close'].pct_change()\n",
        "test_data_clean.drop(test_data.index[0], inplace=True)"
      ],
      "metadata": {
        "id": "PiOareiSuYUk"
      },
      "execution_count": null,
      "outputs": []
    },
    {
      "cell_type": "code",
      "source": [
        "preds = list()\n",
        "\n",
        "\n",
        "test_data = test_data_clean.iloc[:, -1].values.reshape(-1,1)\n",
        "test_data = pd.DataFrame(test_data)\n",
        "for i in range(1, days+1):\n",
        "  test_data_scaled = sc.fit_transform(test_data)\n",
        "  X_test, y_test = create_sequences(test_data_scaled, sequences)\n",
        "  test_predictions = model.predict(X_test)\n",
        "  inverse = sc.inverse_transform(test_predictions)\n",
        "  preds.append(inverse[:, 0])\n",
        "  test_data.drop(0, inplace=True)\n",
        "  test_data = test_data.append(pd.Series(inverse[:,0], index=test_data.columns), ignore_index=True)\n"
      ],
      "metadata": {
        "colab": {
          "base_uri": "https://localhost:8080/"
        },
        "id": "BeP53pdCnWRb",
        "outputId": "23547184-ea06-457b-cf47-f18e22a06198"
      },
      "execution_count": null,
      "outputs": [
        {
          "output_type": "stream",
          "name": "stdout",
          "text": [
            "1/1 [==============================] - 0s 23ms/step\n",
            "1/1 [==============================] - 0s 21ms/step\n",
            "1/1 [==============================] - 0s 27ms/step\n",
            "1/1 [==============================] - 0s 20ms/step\n",
            "1/1 [==============================] - 0s 22ms/step\n",
            "1/1 [==============================] - 0s 19ms/step\n",
            "1/1 [==============================] - 0s 22ms/step\n",
            "1/1 [==============================] - 0s 20ms/step\n",
            "1/1 [==============================] - 0s 20ms/step\n",
            "1/1 [==============================] - 0s 23ms/step\n",
            "1/1 [==============================] - 0s 21ms/step\n",
            "1/1 [==============================] - 0s 27ms/step\n",
            "1/1 [==============================] - 0s 21ms/step\n",
            "1/1 [==============================] - 0s 20ms/step\n",
            "1/1 [==============================] - 0s 21ms/step\n"
          ]
        }
      ]
    },
    {
      "cell_type": "code",
      "source": [
        "preds"
      ],
      "metadata": {
        "colab": {
          "base_uri": "https://localhost:8080/"
        },
        "id": "WgJUcv7hYp-W",
        "outputId": "04ccbdee-446d-4680-b854-42c1d9effa6f"
      },
      "execution_count": null,
      "outputs": [
        {
          "output_type": "execute_result",
          "data": {
            "text/plain": [
              "[array([-0.00194877], dtype=float32),\n",
              " array([-0.00129657], dtype=float32),\n",
              " array([-0.00127576], dtype=float32),\n",
              " array([-0.00129546], dtype=float32),\n",
              " array([-0.00120932], dtype=float32),\n",
              " array([-0.00105105], dtype=float32),\n",
              " array([-0.00084555], dtype=float32),\n",
              " array([-0.00079913], dtype=float32),\n",
              " array([-0.00060405], dtype=float32),\n",
              " array([-0.00056112], dtype=float32),\n",
              " array([-0.00059945], dtype=float32),\n",
              " array([-0.00018485], dtype=float32),\n",
              " array([-0.0001746], dtype=float32),\n",
              " array([-0.00013972], dtype=float32),\n",
              " array([-0.01257697], dtype=float32)]"
            ]
          },
          "metadata": {},
          "execution_count": 27
        }
      ]
    },
    {
      "cell_type": "code",
      "source": [
        "model.evaluate(X_test, y_test, batch_size= 32)"
      ],
      "metadata": {
        "colab": {
          "base_uri": "https://localhost:8080/"
        },
        "id": "8L5ZVeZPKzXX",
        "outputId": "e61d1024-5973-4a62-fc6e-6360f831da54"
      },
      "execution_count": null,
      "outputs": [
        {
          "output_type": "stream",
          "name": "stdout",
          "text": [
            "1/1 [==============================] - 0s 28ms/step - loss: 0.1227\n"
          ]
        },
        {
          "output_type": "execute_result",
          "data": {
            "text/plain": [
              "0.12267260253429413"
            ]
          },
          "metadata": {},
          "execution_count": 28
        }
      ]
    },
    {
      "cell_type": "code",
      "source": [
        "from numpy.ma import left_shift\n",
        "import matplotlib.ticker as ticker\n",
        "\n",
        "\n",
        "limit = sequences + days\n",
        "Actual_Close = test_data_clean['Pct_change'].drop(sequences)\n",
        "\n",
        "result = preds\n",
        "\n",
        "plt.figure(figsize=(12, 8))\n",
        "plt.title('Actual vs. Predicted Closing Prices')\n",
        "plt.xlabel('Time line')\n",
        "plt.ylabel('Closing Price')\n",
        "plt.plot(result, label='Predicted Close', color='b', linestyle='--')\n",
        "plt.plot(Actual_Close, label='Actual Close', color='r')\n",
        "plt.xlim([0,days])\n",
        "#plt.ylim([max(Actual_Close), min(result)])\n",
        "ax= plt.gca()\n",
        "#ax.xaxis.set_major_locator(ticker.MultipleLocator(100))\n",
        "#ax.yaxis.set_major_locator(ticker.MultipleLocator(100))\n",
        "plt.legend()\n",
        "plt.show()"
      ],
      "metadata": {
        "id": "Pb_RbsQ5oVa4",
        "colab": {
          "base_uri": "https://localhost:8080/",
          "height": 718
        },
        "outputId": "633c029a-25fc-4fc8-9894-a865640588e1"
      },
      "execution_count": null,
      "outputs": [
        {
          "output_type": "display_data",
          "data": {
            "text/plain": [
              "<Figure size 1200x800 with 1 Axes>"
            ],
            "image/png": "[encoded data removed]"
          },
          "metadata": {}
        }
      ]
    },
    {
      "cell_type": "code",
      "source": [],
      "metadata": {
        "id": "A7YC22ZJdrFE"
      },
      "execution_count": null,
      "outputs": []
    }
  ]
}