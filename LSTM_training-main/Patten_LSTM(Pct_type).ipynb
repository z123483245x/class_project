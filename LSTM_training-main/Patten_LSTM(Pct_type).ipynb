{
  "nbformat": 4,
  "nbformat_minor": 0,
  "metadata": {
    "colab": {
      "provenance": [],
      "authorship_tag": "ABX9TyPkVO03d21wH8+nQqaE5JNS",
      "include_colab_link": true
    },
    "kernelspec": {
      "name": "python3",
      "display_name": "Python 3"
    },
    "language_info": {
      "name": "python"
    },
    "accelerator": "GPU",
    "gpuClass": "standard"
  },
  "cells": [
    {
      "cell_type": "markdown",
      "metadata": {
        "id": "view-in-github",
        "colab_type": "text"
      },
      "source": [
        "<a href=\"https://colab.research.google.com/github/tangQAQ/LSTM_training/blob/main/Patten_LSTM(Pct_type).ipynb\" target=\"_parent\"><img src=\"https://colab.research.google.com/assets/colab-badge.svg\" alt=\"Open In Colab\"/></a>"
      ]
    },
    {
      "cell_type": "code",
      "execution_count": 1,
      "metadata": {
        "colab": {
          "base_uri": "https://localhost:8080/"
        },
        "id": "kCo7RVKygRWW",
        "outputId": "990c16da-03a7-4820-941f-28dea0050ef7"
      },
      "outputs": [
        {
          "output_type": "stream",
          "name": "stdout",
          "text": [
            "Mounted at /content/gdrive\n",
            "<class 'pandas.core.frame.DataFrame'>\n",
            "RangeIndex: 23683 entries, 0 to 23682\n",
            "Data columns (total 6 columns):\n",
            " #   Column     Non-Null Count  Dtype  \n",
            "---  ------     --------------  -----  \n",
            " 0   Open       23683 non-null  float32\n",
            " 1   High       23683 non-null  float32\n",
            " 2   Low        23683 non-null  float32\n",
            " 3   Close      23683 non-null  float32\n",
            " 4   Adj Close  23683 non-null  float32\n",
            " 5   Volume     23683 non-null  float32\n",
            "dtypes: float32(6)\n",
            "memory usage: 555.2 KB\n"
          ]
        }
      ],
      "source": [
        "import pandas as pd\n",
        "import numpy as np\n",
        "from sklearn.preprocessing import MinMaxScaler, StandardScaler\n",
        "from keras.models import Sequential\n",
        "from keras.layers import Dense, LSTM, Dropout, TimeDistributed\n",
        "from google.colab import drive\n",
        "import matplotlib.pyplot as plt\n",
        "from keras.optimizers import Adam\n",
        "import warnings \n",
        "\n",
        "warnings.filterwarnings('ignore')\n",
        "\n",
        "drive.mount('/content/gdrive')\n",
        "train_data = pd.read_csv(\"/content/gdrive/MyDrive/GSPC_train.csv\", )\n",
        "train_data = train_data.drop(['Date'], axis= 1)\n",
        "train_data = train_data.apply(lambda x: pd.to_numeric(x.str.replace(',',''), errors='coerce')).fillna(-1).astype('float32')\n",
        "train_data.info()"
      ]
    },
    {
      "cell_type": "code",
      "source": [
        "train_data['Pct_change'] = train_data['Close'].pct_change()\n",
        "train_data.drop(train_data.index[0], inplace=True)\n",
        "train_data.head()"
      ],
      "metadata": {
        "colab": {
          "base_uri": "https://localhost:8080/",
          "height": 206
        },
        "id": "m3G8aRn3qYPM",
        "outputId": "ec27ce55-0a22-4da0-8e9e-a432bb083807"
      },
      "execution_count": 5,
      "outputs": [
        {
          "output_type": "execute_result",
          "data": {
            "text/plain": [
              "        Open       High        Low      Close  Adj Close  Volume  Pct_change\n",
              "3  17.660000  17.660000  17.660000  17.660000  17.660000    -1.0    0.006268\n",
              "4  17.500000  17.500000  17.500000  17.500000  17.500000    -1.0   -0.009060\n",
              "5  17.370001  17.370001  17.370001  17.370001  17.370001    -1.0   -0.007429\n",
              "6  17.350000  17.350000  17.350000  17.350000  17.350000    -1.0   -0.001151\n",
              "7  17.469999  17.469999  17.469999  17.469999  17.469999    -1.0    0.006916"
            ],
            "text/html": [
              "\n",
              "  <div id=\"df-2f301b63-2438-4466-98e4-c19559d71276\">\n",
              "    <div class=\"colab-df-container\">\n",
              "      <div>\n",
              "<style scoped>\n",
              "    .dataframe tbody tr th:only-of-type {\n",
              "        vertical-align: middle;\n",
              "    }\n",
              "\n",
              "    .dataframe tbody tr th {\n",
              "        vertical-align: top;\n",
              "    }\n",
              "\n",
              "    .dataframe thead th {\n",
              "        text-align: right;\n",
              "    }\n",
              "</style>\n",
              "<table border=\"1\" class=\"dataframe\">\n",
              "  <thead>\n",
              "    <tr style=\"text-align: right;\">\n",
              "      <th></th>\n",
              "      <th>Open</th>\n",
              "      <th>High</th>\n",
              "      <th>Low</th>\n",
              "      <th>Close</th>\n",
              "      <th>Adj Close</th>\n",
              "      <th>Volume</th>\n",
              "      <th>Pct_change</th>\n",
              "    </tr>\n",
              "  </thead>\n",
              "  <tbody>\n",
              "    <tr>\n",
              "      <th>3</th>\n",
              "      <td>17.660000</td>\n",
              "      <td>17.660000</td>\n",
              "      <td>17.660000</td>\n",
              "      <td>17.660000</td>\n",
              "      <td>17.660000</td>\n",
              "      <td>-1.0</td>\n",
              "      <td>0.006268</td>\n",
              "    </tr>\n",
              "    <tr>\n",
              "      <th>4</th>\n",
              "      <td>17.500000</td>\n",
              "      <td>17.500000</td>\n",
              "      <td>17.500000</td>\n",
              "      <td>17.500000</td>\n",
              "      <td>17.500000</td>\n",
              "      <td>-1.0</td>\n",
              "      <td>-0.009060</td>\n",
              "    </tr>\n",
              "    <tr>\n",
              "      <th>5</th>\n",
              "      <td>17.370001</td>\n",
              "      <td>17.370001</td>\n",
              "      <td>17.370001</td>\n",
              "      <td>17.370001</td>\n",
              "      <td>17.370001</td>\n",
              "      <td>-1.0</td>\n",
              "      <td>-0.007429</td>\n",
              "    </tr>\n",
              "    <tr>\n",
              "      <th>6</th>\n",
              "      <td>17.350000</td>\n",
              "      <td>17.350000</td>\n",
              "      <td>17.350000</td>\n",
              "      <td>17.350000</td>\n",
              "      <td>17.350000</td>\n",
              "      <td>-1.0</td>\n",
              "      <td>-0.001151</td>\n",
              "    </tr>\n",
              "    <tr>\n",
              "      <th>7</th>\n",
              "      <td>17.469999</td>\n",
              "      <td>17.469999</td>\n",
              "      <td>17.469999</td>\n",
              "      <td>17.469999</td>\n",
              "      <td>17.469999</td>\n",
              "      <td>-1.0</td>\n",
              "      <td>0.006916</td>\n",
              "    </tr>\n",
              "  </tbody>\n",
              "</table>\n",
              "</div>\n",
              "      <button class=\"colab-df-convert\" onclick=\"convertToInteractive('df-2f301b63-2438-4466-98e4-c19559d71276')\"\n",
              "              title=\"Convert this dataframe to an interactive table.\"\n",
              "              style=\"display:none;\">\n",
              "        \n",
              "  <svg xmlns=\"http://www.w3.org/2000/svg\" height=\"24px\"viewBox=\"0 0 24 24\"\n",
              "       width=\"24px\">\n",
              "    <path d=\"M0 0h24v24H0V0z\" fill=\"none\"/>\n",
              "    <path d=\"M18.56 5.44l.94 2.06.94-2.06 2.06-.94-2.06-.94-.94-2.06-.94 2.06-2.06.94zm-11 1L8.5 8.5l.94-2.06 2.06-.94-2.06-.94L8.5 2.5l-.94 2.06-2.06.94zm10 10l.94 2.06.94-2.06 2.06-.94-2.06-.94-.94-2.06-.94 2.06-2.06.94z\"/><path d=\"M17.41 7.96l-1.37-1.37c-.4-.4-.92-.59-1.43-.59-.52 0-1.04.2-1.43.59L10.3 9.45l-7.72 7.72c-.78.78-.78 2.05 0 2.83L4 21.41c.39.39.9.59 1.41.59.51 0 1.02-.2 1.41-.59l7.78-7.78 2.81-2.81c.8-.78.8-2.07 0-2.86zM5.41 20L4 18.59l7.72-7.72 1.47 1.35L5.41 20z\"/>\n",
              "  </svg>\n",
              "      </button>\n",
              "      \n",
              "  <style>\n",
              "    .colab-df-container {\n",
              "      display:flex;\n",
              "      flex-wrap:wrap;\n",
              "      gap: 12px;\n",
              "    }\n",
              "\n",
              "    .colab-df-convert {\n",
              "      background-color: #E8F0FE;\n",
              "      border: none;\n",
              "      border-radius: 50%;\n",
              "      cursor: pointer;\n",
              "      display: none;\n",
              "      fill: #1967D2;\n",
              "      height: 32px;\n",
              "      padding: 0 0 0 0;\n",
              "      width: 32px;\n",
              "    }\n",
              "\n",
              "    .colab-df-convert:hover {\n",
              "      background-color: #E2EBFA;\n",
              "      box-shadow: 0px 1px 2px rgba(60, 64, 67, 0.3), 0px 1px 3px 1px rgba(60, 64, 67, 0.15);\n",
              "      fill: #174EA6;\n",
              "    }\n",
              "\n",
              "    [theme=dark] .colab-df-convert {\n",
              "      background-color: #3B4455;\n",
              "      fill: #D2E3FC;\n",
              "    }\n",
              "\n",
              "    [theme=dark] .colab-df-convert:hover {\n",
              "      background-color: #434B5C;\n",
              "      box-shadow: 0px 1px 3px 1px rgba(0, 0, 0, 0.15);\n",
              "      filter: drop-shadow(0px 1px 2px rgba(0, 0, 0, 0.3));\n",
              "      fill: #FFFFFF;\n",
              "    }\n",
              "  </style>\n",
              "\n",
              "      <script>\n",
              "        const buttonEl =\n",
              "          document.querySelector('#df-2f301b63-2438-4466-98e4-c19559d71276 button.colab-df-convert');\n",
              "        buttonEl.style.display =\n",
              "          google.colab.kernel.accessAllowed ? 'block' : 'none';\n",
              "\n",
              "        async function convertToInteractive(key) {\n",
              "          const element = document.querySelector('#df-2f301b63-2438-4466-98e4-c19559d71276');\n",
              "          const dataTable =\n",
              "            await google.colab.kernel.invokeFunction('convertToInteractive',\n",
              "                                                     [key], {});\n",
              "          if (!dataTable) return;\n",
              "\n",
              "          const docLinkHtml = 'Like what you see? Visit the ' +\n",
              "            '<a target=\"_blank\" href=https://colab.research.google.com/notebooks/data_table.ipynb>data table notebook</a>'\n",
              "            + ' to learn more about interactive tables.';\n",
              "          element.innerHTML = '';\n",
              "          dataTable['output_type'] = 'display_data';\n",
              "          await google.colab.output.renderOutput(dataTable, element);\n",
              "          const docLink = document.createElement('div');\n",
              "          docLink.innerHTML = docLinkHtml;\n",
              "          element.appendChild(docLink);\n",
              "        }\n",
              "      </script>\n",
              "    </div>\n",
              "  </div>\n",
              "  "
            ]
          },
          "metadata": {},
          "execution_count": 5
        }
      ]
    },
    {
      "cell_type": "code",
      "source": [
        "def data_split(data, slice_size):\n",
        "  size = int(len(data) * slice_size)\n",
        "  train = data[:size]\n",
        "  val = data[size:]\n",
        "  return train, val"
      ],
      "metadata": {
        "id": "T_26VZ1lLEi9"
      },
      "execution_count": 9,
      "outputs": []
    },
    {
      "cell_type": "code",
      "source": [
        "def create_sequences(data, sequences):\n",
        "    X = []\n",
        "    y = []\n",
        "    for i in range(sequences, len(data)):\n",
        "        X.append(data[i-sequences:i, :])\n",
        "        y.append(data[i, 0])\n",
        "    X = np.array(X)\n",
        "    y = np.array(y)\n",
        "    return X, y"
      ],
      "metadata": {
        "id": "hVMiJjcWgvY1"
      },
      "execution_count": 11,
      "outputs": []
    },
    {
      "cell_type": "code",
      "source": [
        "train, val = data_split(train_data, 0.8)\n",
        "train.shape, val.shape"
      ],
      "metadata": {
        "colab": {
          "base_uri": "https://localhost:8080/"
        },
        "id": "Ca2sEvgvrar6",
        "outputId": "b7d31fd5-62ae-4f77-f691-31b21d006230"
      },
      "execution_count": 16,
      "outputs": [
        {
          "output_type": "execute_result",
          "data": {
            "text/plain": [
              "((18944, 7), (4736, 7))"
            ]
          },
          "metadata": {},
          "execution_count": 16
        }
      ]
    },
    {
      "cell_type": "code",
      "source": [
        "sc = MinMaxScaler(feature_range=(0,1))\n",
        "\n",
        "sequences = 15\n",
        "\n",
        "train_data_scaled = sc.fit_transform(train.iloc[:, -1].values.reshape(-1, 1))\n",
        "val_data_scaled = sc.fit_transform(val.iloc[:, -1].values.reshape(-1, 1))\n",
        "X_train, y_train = create_sequences(train_data_scaled, sequences)\n",
        "X_val, y_val = create_sequences(val_data_scaled, sequences)\n",
        "X_train.shape, y_train.shape, X_val.shape, y_val.shape"
      ],
      "metadata": {
        "colab": {
          "base_uri": "https://localhost:8080/"
        },
        "id": "KMgrUfAAhLsX",
        "outputId": "3b62f360-aaf3-4138-a2c7-a3d474b56f8f"
      },
      "execution_count": 34,
      "outputs": [
        {
          "output_type": "stream",
          "name": "stdout",
          "text": [
            "(18944, 1)\n"
          ]
        },
        {
          "output_type": "execute_result",
          "data": {
            "text/plain": [
              "((18929, 15, 1), (18929,), (4721, 15, 1), (4721,))"
            ]
          },
          "metadata": {},
          "execution_count": 34
        }
      ]
    },
    {
      "cell_type": "code",
      "source": [
        "print(X_train[1],y_train[1])"
      ],
      "metadata": {
        "colab": {
          "base_uri": "https://localhost:8080/"
        },
        "id": "64QRrk9R7RGy",
        "outputId": "d8c61266-90d9-42e4-9759-1772e31884c4"
      },
      "execution_count": 28,
      "outputs": [
        {
          "output_type": "stream",
          "name": "stdout",
          "text": [
            "[[0.5275827 ]\n",
            " [0.531983  ]\n",
            " [0.5489131 ]\n",
            " [0.5706731 ]\n",
            " [0.5690012 ]\n",
            " [0.50752705]\n",
            " [0.55357844]\n",
            " [0.5457828 ]\n",
            " [0.5707702 ]\n",
            " [0.5675373 ]\n",
            " [0.57670647]\n",
            " [0.56272155]\n",
            " [0.52308315]\n",
            " [0.5689526 ]\n",
            " [0.5611982 ]] 0.5215254\n"
          ]
        }
      ]
    },
    {
      "cell_type": "code",
      "source": [
        "model = Sequential()\n",
        "model.add(LSTM(units=30, return_sequences=False, input_shape=(X_train.shape[1], X_train.shape[2])))\n",
        "model.add(Dense(units=1))\n",
        "\n",
        "model.compile(optimizer='Adam', loss='mse')\n",
        "\n",
        "model.fit(X_train, y_train, validation_data=(X_val, y_val),epochs=10, batch_size=32)"
      ],
      "metadata": {
        "colab": {
          "base_uri": "https://localhost:8080/"
        },
        "id": "YkZbrumanRUA",
        "outputId": "c5513a4d-00fb-49da-eb86-ae5837017bfc"
      },
      "execution_count": 29,
      "outputs": [
        {
          "output_type": "stream",
          "name": "stdout",
          "text": [
            "Epoch 1/10\n",
            "592/592 [==============================] - 11s 6ms/step - loss: 0.0064 - val_loss: 0.0031\n",
            "Epoch 2/10\n",
            "592/592 [==============================] - 4s 7ms/step - loss: 0.0011 - val_loss: 0.0032\n",
            "Epoch 3/10\n",
            "592/592 [==============================] - 4s 6ms/step - loss: 0.0011 - val_loss: 0.0036\n",
            "Epoch 4/10\n",
            "592/592 [==============================] - 5s 8ms/step - loss: 0.0011 - val_loss: 0.0034\n",
            "Epoch 5/10\n",
            "592/592 [==============================] - 4s 7ms/step - loss: 0.0011 - val_loss: 0.0033\n",
            "Epoch 6/10\n",
            "592/592 [==============================] - 4s 7ms/step - loss: 0.0011 - val_loss: 0.0036\n",
            "Epoch 7/10\n",
            "592/592 [==============================] - 5s 9ms/step - loss: 0.0011 - val_loss: 0.0030\n",
            "Epoch 8/10\n",
            "592/592 [==============================] - 4s 7ms/step - loss: 0.0011 - val_loss: 0.0032\n",
            "Epoch 9/10\n",
            "592/592 [==============================] - 3s 6ms/step - loss: 0.0011 - val_loss: 0.0036\n",
            "Epoch 10/10\n",
            "592/592 [==============================] - 5s 9ms/step - loss: 0.0011 - val_loss: 0.0032\n"
          ]
        },
        {
          "output_type": "execute_result",
          "data": {
            "text/plain": [
              "<keras.callbacks.History at 0x7fa7a273a730>"
            ]
          },
          "metadata": {},
          "execution_count": 29
        }
      ]
    },
    {
      "cell_type": "code",
      "source": [
        "model.evaluate(X_train, y_train, batch_size= 32)"
      ],
      "metadata": {
        "colab": {
          "base_uri": "https://localhost:8080/"
        },
        "id": "D7PNGwgQKoSt",
        "outputId": "b1e3b935-a947-4aec-bc9f-da360807711d"
      },
      "execution_count": 30,
      "outputs": [
        {
          "output_type": "stream",
          "name": "stdout",
          "text": [
            "592/592 [==============================] - 3s 4ms/step - loss: 0.0011\n"
          ]
        },
        {
          "output_type": "execute_result",
          "data": {
            "text/plain": [
              "0.0011072743218392134"
            ]
          },
          "metadata": {},
          "execution_count": 30
        }
      ]
    },
    {
      "cell_type": "code",
      "source": [
        "test_df = pd.read_csv(\"/content/gdrive/MyDrive/GSPC_test.csv\")\n",
        "\n",
        "test_data = test_df.copy()\n",
        "test_data = test_data.drop(['Date'], axis= 1)\n",
        "test_data_clean = test_data.apply(lambda x: pd.to_numeric(x.str.replace(',',''), errors='coerce')).fillna(-1).astype('float32')"
      ],
      "metadata": {
        "id": "PiOareiSuYUk"
      },
      "execution_count": 38,
      "outputs": []
    },
    {
      "cell_type": "code",
      "source": [
        "test_data_clean['Pct_change'] = test_data_clean['Close'].pct_change()\n",
        "test_data_clean.drop(test_data.index[0], inplace=True)\n",
        "test_data_clean.head()"
      ],
      "metadata": {
        "colab": {
          "base_uri": "https://localhost:8080/",
          "height": 206
        },
        "id": "qZ7HCgJgvrTv",
        "outputId": "a51341da-325e-492c-857b-f6ade6711bdd"
      },
      "execution_count": 40,
      "outputs": [
        {
          "output_type": "execute_result",
          "data": {
            "text/plain": [
              "          Open         High          Low        Close    Adj Close  \\\n",
              "1  4449.120117  4460.459961  4390.770020  4392.589844  4392.589844   \n",
              "2  4385.629883  4410.310059  4370.299805  4391.689941  4391.689941   \n",
              "3  4390.629883  4471.029785  4390.629883  4462.209961  4462.209961   \n",
              "4  4472.259766  4488.290039  4448.759766  4459.450195  4459.450195   \n",
              "5  4489.169922  4512.939941  4384.470215  4393.660156  4393.660156   \n",
              "\n",
              "         Volume  Pct_change  \n",
              "1  4.083090e+09   -0.012144  \n",
              "2  3.910490e+09   -0.000205  \n",
              "3  4.108120e+09    0.016058  \n",
              "4  4.290450e+09   -0.000618  \n",
              "5  4.636890e+09   -0.014753  "
            ],
            "text/html": [
              "\n",
              "  <div id=\"df-c4b2c111-f4e2-46ab-b5e4-5c38983da3d8\">\n",
              "    <div class=\"colab-df-container\">\n",
              "      <div>\n",
              "<style scoped>\n",
              "    .dataframe tbody tr th:only-of-type {\n",
              "        vertical-align: middle;\n",
              "    }\n",
              "\n",
              "    .dataframe tbody tr th {\n",
              "        vertical-align: top;\n",
              "    }\n",
              "\n",
              "    .dataframe thead th {\n",
              "        text-align: right;\n",
              "    }\n",
              "</style>\n",
              "<table border=\"1\" class=\"dataframe\">\n",
              "  <thead>\n",
              "    <tr style=\"text-align: right;\">\n",
              "      <th></th>\n",
              "      <th>Open</th>\n",
              "      <th>High</th>\n",
              "      <th>Low</th>\n",
              "      <th>Close</th>\n",
              "      <th>Adj Close</th>\n",
              "      <th>Volume</th>\n",
              "      <th>Pct_change</th>\n",
              "    </tr>\n",
              "  </thead>\n",
              "  <tbody>\n",
              "    <tr>\n",
              "      <th>1</th>\n",
              "      <td>4449.120117</td>\n",
              "      <td>4460.459961</td>\n",
              "      <td>4390.770020</td>\n",
              "      <td>4392.589844</td>\n",
              "      <td>4392.589844</td>\n",
              "      <td>4.083090e+09</td>\n",
              "      <td>-0.012144</td>\n",
              "    </tr>\n",
              "    <tr>\n",
              "      <th>2</th>\n",
              "      <td>4385.629883</td>\n",
              "      <td>4410.310059</td>\n",
              "      <td>4370.299805</td>\n",
              "      <td>4391.689941</td>\n",
              "      <td>4391.689941</td>\n",
              "      <td>3.910490e+09</td>\n",
              "      <td>-0.000205</td>\n",
              "    </tr>\n",
              "    <tr>\n",
              "      <th>3</th>\n",
              "      <td>4390.629883</td>\n",
              "      <td>4471.029785</td>\n",
              "      <td>4390.629883</td>\n",
              "      <td>4462.209961</td>\n",
              "      <td>4462.209961</td>\n",
              "      <td>4.108120e+09</td>\n",
              "      <td>0.016058</td>\n",
              "    </tr>\n",
              "    <tr>\n",
              "      <th>4</th>\n",
              "      <td>4472.259766</td>\n",
              "      <td>4488.290039</td>\n",
              "      <td>4448.759766</td>\n",
              "      <td>4459.450195</td>\n",
              "      <td>4459.450195</td>\n",
              "      <td>4.290450e+09</td>\n",
              "      <td>-0.000618</td>\n",
              "    </tr>\n",
              "    <tr>\n",
              "      <th>5</th>\n",
              "      <td>4489.169922</td>\n",
              "      <td>4512.939941</td>\n",
              "      <td>4384.470215</td>\n",
              "      <td>4393.660156</td>\n",
              "      <td>4393.660156</td>\n",
              "      <td>4.636890e+09</td>\n",
              "      <td>-0.014753</td>\n",
              "    </tr>\n",
              "  </tbody>\n",
              "</table>\n",
              "</div>\n",
              "      <button class=\"colab-df-convert\" onclick=\"convertToInteractive('df-c4b2c111-f4e2-46ab-b5e4-5c38983da3d8')\"\n",
              "              title=\"Convert this dataframe to an interactive table.\"\n",
              "              style=\"display:none;\">\n",
              "        \n",
              "  <svg xmlns=\"http://www.w3.org/2000/svg\" height=\"24px\"viewBox=\"0 0 24 24\"\n",
              "       width=\"24px\">\n",
              "    <path d=\"M0 0h24v24H0V0z\" fill=\"none\"/>\n",
              "    <path d=\"M18.56 5.44l.94 2.06.94-2.06 2.06-.94-2.06-.94-.94-2.06-.94 2.06-2.06.94zm-11 1L8.5 8.5l.94-2.06 2.06-.94-2.06-.94L8.5 2.5l-.94 2.06-2.06.94zm10 10l.94 2.06.94-2.06 2.06-.94-2.06-.94-.94-2.06-.94 2.06-2.06.94z\"/><path d=\"M17.41 7.96l-1.37-1.37c-.4-.4-.92-.59-1.43-.59-.52 0-1.04.2-1.43.59L10.3 9.45l-7.72 7.72c-.78.78-.78 2.05 0 2.83L4 21.41c.39.39.9.59 1.41.59.51 0 1.02-.2 1.41-.59l7.78-7.78 2.81-2.81c.8-.78.8-2.07 0-2.86zM5.41 20L4 18.59l7.72-7.72 1.47 1.35L5.41 20z\"/>\n",
              "  </svg>\n",
              "      </button>\n",
              "      \n",
              "  <style>\n",
              "    .colab-df-container {\n",
              "      display:flex;\n",
              "      flex-wrap:wrap;\n",
              "      gap: 12px;\n",
              "    }\n",
              "\n",
              "    .colab-df-convert {\n",
              "      background-color: #E8F0FE;\n",
              "      border: none;\n",
              "      border-radius: 50%;\n",
              "      cursor: pointer;\n",
              "      display: none;\n",
              "      fill: #1967D2;\n",
              "      height: 32px;\n",
              "      padding: 0 0 0 0;\n",
              "      width: 32px;\n",
              "    }\n",
              "\n",
              "    .colab-df-convert:hover {\n",
              "      background-color: #E2EBFA;\n",
              "      box-shadow: 0px 1px 2px rgba(60, 64, 67, 0.3), 0px 1px 3px 1px rgba(60, 64, 67, 0.15);\n",
              "      fill: #174EA6;\n",
              "    }\n",
              "\n",
              "    [theme=dark] .colab-df-convert {\n",
              "      background-color: #3B4455;\n",
              "      fill: #D2E3FC;\n",
              "    }\n",
              "\n",
              "    [theme=dark] .colab-df-convert:hover {\n",
              "      background-color: #434B5C;\n",
              "      box-shadow: 0px 1px 3px 1px rgba(0, 0, 0, 0.15);\n",
              "      filter: drop-shadow(0px 1px 2px rgba(0, 0, 0, 0.3));\n",
              "      fill: #FFFFFF;\n",
              "    }\n",
              "  </style>\n",
              "\n",
              "      <script>\n",
              "        const buttonEl =\n",
              "          document.querySelector('#df-c4b2c111-f4e2-46ab-b5e4-5c38983da3d8 button.colab-df-convert');\n",
              "        buttonEl.style.display =\n",
              "          google.colab.kernel.accessAllowed ? 'block' : 'none';\n",
              "\n",
              "        async function convertToInteractive(key) {\n",
              "          const element = document.querySelector('#df-c4b2c111-f4e2-46ab-b5e4-5c38983da3d8');\n",
              "          const dataTable =\n",
              "            await google.colab.kernel.invokeFunction('convertToInteractive',\n",
              "                                                     [key], {});\n",
              "          if (!dataTable) return;\n",
              "\n",
              "          const docLinkHtml = 'Like what you see? Visit the ' +\n",
              "            '<a target=\"_blank\" href=https://colab.research.google.com/notebooks/data_table.ipynb>data table notebook</a>'\n",
              "            + ' to learn more about interactive tables.';\n",
              "          element.innerHTML = '';\n",
              "          dataTable['output_type'] = 'display_data';\n",
              "          await google.colab.output.renderOutput(dataTable, element);\n",
              "          const docLink = document.createElement('div');\n",
              "          docLink.innerHTML = docLinkHtml;\n",
              "          element.appendChild(docLink);\n",
              "        }\n",
              "      </script>\n",
              "    </div>\n",
              "  </div>\n",
              "  "
            ]
          },
          "metadata": {},
          "execution_count": 40
        }
      ]
    },
    {
      "cell_type": "code",
      "source": [
        "preds = list()\n",
        "days = 15\n",
        "test_data = test_data_clean.iloc[:days+1, -1].values.reshape(-1,1)\n",
        "test_data = pd.DataFrame(test_data)\n",
        "for i in range(1, days+1):\n",
        "  test_data_scaled = sc.fit_transform(test_data)\n",
        "  X_test, y_test = create_sequences(test_data_scaled, sequences)\n",
        "  test_predictions = model.predict(X_test)\n",
        "  inverse = sc.inverse_transform(test_predictions)\n",
        "  preds.append(inverse[:, 0])\n",
        "  test_data.drop(0, inplace=True)\n",
        "  test_data = test_data.append(pd.Series(inverse[:,0], index=test_data.columns), ignore_index=True)\n"
      ],
      "metadata": {
        "colab": {
          "base_uri": "https://localhost:8080/"
        },
        "id": "BeP53pdCnWRb",
        "outputId": "3a41c38f-d8dc-4b65-af08-a534e8b5edae"
      },
      "execution_count": 43,
      "outputs": [
        {
          "output_type": "stream",
          "name": "stdout",
          "text": [
            "1/1 [==============================] - 0s 29ms/step\n",
            "1/1 [==============================] - 0s 27ms/step\n",
            "1/1 [==============================] - 0s 28ms/step\n",
            "1/1 [==============================] - 0s 28ms/step\n",
            "1/1 [==============================] - 0s 38ms/step\n",
            "1/1 [==============================] - 0s 22ms/step\n",
            "1/1 [==============================] - 0s 21ms/step\n",
            "1/1 [==============================] - 0s 18ms/step\n",
            "1/1 [==============================] - 0s 25ms/step\n",
            "1/1 [==============================] - 0s 19ms/step\n",
            "1/1 [==============================] - 0s 18ms/step\n",
            "1/1 [==============================] - 0s 23ms/step\n",
            "1/1 [==============================] - 0s 19ms/step\n",
            "1/1 [==============================] - 0s 21ms/step\n",
            "1/1 [==============================] - 0s 22ms/step\n"
          ]
        }
      ]
    },
    {
      "cell_type": "code",
      "source": [
        "preds"
      ],
      "metadata": {
        "colab": {
          "base_uri": "https://localhost:8080/"
        },
        "id": "WgJUcv7hYp-W",
        "outputId": "5fc89c22-a91e-4803-e0a1-284154446cc3"
      },
      "execution_count": 44,
      "outputs": [
        {
          "output_type": "execute_result",
          "data": {
            "text/plain": [
              "[array([-0.00130933], dtype=float32),\n",
              " array([-0.00126208], dtype=float32),\n",
              " array([-0.00130605], dtype=float32),\n",
              " array([-0.00145053], dtype=float32),\n",
              " array([-0.00141619], dtype=float32),\n",
              " array([-0.00124947], dtype=float32),\n",
              " array([-0.00098471], dtype=float32),\n",
              " array([-0.00101167], dtype=float32),\n",
              " array([-0.00075655], dtype=float32),\n",
              " array([-0.00076069], dtype=float32),\n",
              " array([-0.00093947], dtype=float32),\n",
              " array([-0.00039607], dtype=float32),\n",
              " array([-0.00043379], dtype=float32),\n",
              " array([-0.00045474], dtype=float32),\n",
              " array([-0.01385729], dtype=float32)]"
            ]
          },
          "metadata": {},
          "execution_count": 44
        }
      ]
    },
    {
      "cell_type": "code",
      "source": [
        "model.evaluate(X_test, y_test, batch_size= 32)"
      ],
      "metadata": {
        "colab": {
          "base_uri": "https://localhost:8080/"
        },
        "id": "8L5ZVeZPKzXX",
        "outputId": "88b1909c-a065-453a-9ac2-477919cb6c61"
      },
      "execution_count": 45,
      "outputs": [
        {
          "output_type": "stream",
          "name": "stdout",
          "text": [
            "1/1 [==============================] - 0s 32ms/step - loss: 0.1445\n"
          ]
        },
        {
          "output_type": "execute_result",
          "data": {
            "text/plain": [
              "0.14453288912773132"
            ]
          },
          "metadata": {},
          "execution_count": 45
        }
      ]
    },
    {
      "cell_type": "code",
      "source": [
        "from numpy.ma import left_shift\n",
        "import matplotlib.ticker as ticker\n",
        "\n",
        "\n",
        "limit = sequences + days\n",
        "Actual_Close = test_data_clean['Pct_change'].drop(sequences)\n",
        "\n",
        "result = preds\n",
        "\n",
        "plt.figure(figsize=(12, 8))\n",
        "plt.title('Actual vs. Predicted Closing Prices')\n",
        "plt.xlabel('Time line')\n",
        "plt.ylabel('Closing Price')\n",
        "plt.plot(result, label='Predicted Close', color='b', linestyle='--')\n",
        "plt.plot(Actual_Close, label='Actual Close', color='r')\n",
        "plt.xlim([0,days])\n",
        "#plt.ylim([max(Actual_Close), min(result)])\n",
        "ax= plt.gca()\n",
        "#ax.xaxis.set_major_locator(ticker.MultipleLocator(100))\n",
        "#ax.yaxis.set_major_locator(ticker.MultipleLocator(100))\n",
        "plt.legend()\n",
        "plt.show()"
      ],
      "metadata": {
        "id": "Pb_RbsQ5oVa4",
        "colab": {
          "base_uri": "https://localhost:8080/",
          "height": 718
        },
        "outputId": "86cebef6-06ff-4e2f-bb9e-82a08dcf9d33"
      },
      "execution_count": 47,
      "outputs": [
        {
          "output_type": "display_data",
          "data": {
            "text/plain": [
              "<Figure size 1200x800 with 1 Axes>"
            ],
            "image/png": "[encoded data removed]"
          },
          "metadata": {}
        }
      ]
    },
    {
      "cell_type": "code",
      "source": [],
      "metadata": {
        "id": "A7YC22ZJdrFE"
      },
      "execution_count": null,
      "outputs": []
    }
  ]
}